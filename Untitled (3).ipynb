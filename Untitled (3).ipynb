{
 "cells": [
  {
   "cell_type": "markdown",
   "id": "59067916-39d0-4d77-a037-19f046378171",
   "metadata": {},
   "source": [
    "# Criminality Across Vancouver Neighbourhoods"
   ]
  },
  {
   "cell_type": "markdown",
   "id": "f0352155-f851-419e-ab9a-5bb340c45920",
   "metadata": {},
   "source": [
    "By: Isabela Lucas Bruxellas, Sam Thorne, Sean Meng"
   ]
  },
  {
   "cell_type": "markdown",
   "id": "512a3107-fe63-48b7-b6f1-0a6ecafa1a9f",
   "metadata": {},
   "source": [
    "## Introduction"
   ]
  },
  {
   "cell_type": "markdown",
   "id": "416ea7eb-2904-4cb7-9381-b87811c79048",
   "metadata": {},
   "source": [
    "#### Background Information\n",
    "\n",
    "Despite nationwide crime rates declining since the 1990s in Canada (STATCAN 2021), many Canadians still fear crime, especially in their local communities (JUSTICE CANADA, 2022). Current research suggests that effective crime control strategies embrace the importance of regular citizens in preventing crime and enhance their ability to do so (USCIDA et al., 2014). This research focuses on empowering citizens by providing an understanding of overall and crime-specific proportions across the communities of Vancouver. This analysis will infer which districts in Vancouver have proportionally higher and lower crime rates.\n"
   ]
  },
  {
   "cell_type": "markdown",
   "id": "b1e11820-3c39-42ee-b5bb-0e2c83e99f26",
   "metadata": {},
   "source": [
    "#### Research Question"
   ]
  },
  {
   "cell_type": "markdown",
   "id": "19b1259d-6b95-4b7e-828d-52804501e8be",
   "metadata": {},
   "source": [
    "Is there a difference between the average annual proportion of crimes in Vancouver across different districts? \n",
    "\n",
    "To answer this question, we will explore the proportion of crimes grouped per year from **2003** to **2021** and across the **Central**, **East**, **South** and **West** districts of Vancouver. We will calculate the mean proportion of crime that lies in each district and perform hypothesis testing. We will also analyze trends over time and differences across crime types.  "
   ]
  },
  {
   "cell_type": "markdown",
   "id": "b5eb8307-4c4d-415b-9a53-88ee769a638b",
   "metadata": {},
   "source": [
    "#### The Dataset, Trustworthiness"
   ]
  },
  {
   "cell_type": "markdown",
   "id": "d7524a5f-547c-49d3-acc3-433a8d5e2fde",
   "metadata": {},
   "source": [
    "The dataset was provided by the Vancouver Police Department (VDC) and collected from the PRIME BC Police Records Management System (RMS) on October 21st, 2022. As a result, it is trustworthy and unbiased because it contains all police-reported crimes in Vancouver. It includes crime **type**, **time**, and **location**."
   ]
  },
  {
   "cell_type": "markdown",
   "id": "845ed473-6041-4340-a8ca-5955c55c1e6f",
   "metadata": {},
   "source": [
    "## Methods and Results"
   ]
  },
  {
   "cell_type": "code",
   "execution_count": 1,
   "id": "ee4fba18-4cc9-4973-8357-4bb202acda63",
   "metadata": {},
   "outputs": [
    {
     "name": "stderr",
     "output_type": "stream",
     "text": [
      "── \u001b[1mAttaching packages\u001b[22m ─────────────────────────────────────── tidyverse 1.3.2 ──\n",
      "\u001b[32m✔\u001b[39m \u001b[34mggplot2\u001b[39m 3.3.6      \u001b[32m✔\u001b[39m \u001b[34mpurrr  \u001b[39m 0.3.5 \n",
      "\u001b[32m✔\u001b[39m \u001b[34mtibble \u001b[39m 3.1.8      \u001b[32m✔\u001b[39m \u001b[34mdplyr  \u001b[39m 1.0.10\n",
      "\u001b[32m✔\u001b[39m \u001b[34mtidyr  \u001b[39m 1.2.1      \u001b[32m✔\u001b[39m \u001b[34mstringr\u001b[39m 1.4.1 \n",
      "\u001b[32m✔\u001b[39m \u001b[34mreadr  \u001b[39m 2.1.3      \u001b[32m✔\u001b[39m \u001b[34mforcats\u001b[39m 0.5.2 \n",
      "── \u001b[1mConflicts\u001b[22m ────────────────────────────────────────── tidyverse_conflicts() ──\n",
      "\u001b[31m✖\u001b[39m \u001b[34mdplyr\u001b[39m::\u001b[32mfilter()\u001b[39m masks \u001b[34mstats\u001b[39m::filter()\n",
      "\u001b[31m✖\u001b[39m \u001b[34mdplyr\u001b[39m::\u001b[32mlag()\u001b[39m    masks \u001b[34mstats\u001b[39m::lag()\n",
      "\n",
      "Attaching package: ‘gridExtra’\n",
      "\n",
      "\n",
      "The following object is masked from ‘package:dplyr’:\n",
      "\n",
      "    combine\n",
      "\n",
      "\n"
     ]
    }
   ],
   "source": [
    "set.seed(101)\n",
    "\n",
    "library(tidyverse)\n",
    "library(repr)\n",
    "library(digest)\n",
    "library(infer)\n",
    "library(gridExtra)\n",
    "library(cowplot)\n",
    "library(RColorBrewer)\n",
    "library(broom)"
   ]
  },
  {
   "cell_type": "markdown",
   "id": "3a47b43d-fdd8-4e4e-976c-8b38ea75f749",
   "metadata": {},
   "source": [
    "#### Data import and cleaning"
   ]
  },
  {
   "cell_type": "code",
   "execution_count": 5,
   "id": "4aa94744-7e95-480e-872d-89d293af86df",
   "metadata": {},
   "outputs": [
    {
     "name": "stderr",
     "output_type": "stream",
     "text": [
      "\u001b[1mRows: \u001b[22m\u001b[34m841759\u001b[39m \u001b[1mColumns: \u001b[22m\u001b[34m10\u001b[39m\n",
      "\u001b[36m──\u001b[39m \u001b[1mColumn specification\u001b[22m \u001b[36m────────────────────────────────────────────────────────\u001b[39m\n",
      "\u001b[1mDelimiter:\u001b[22m \",\"\n",
      "\u001b[31mchr\u001b[39m (3): TYPE, HUNDRED_BLOCK, NEIGHBOURHOOD\n",
      "\u001b[32mdbl\u001b[39m (7): YEAR, MONTH, DAY, HOUR, MINUTE, X, Y\n",
      "\n",
      "\u001b[36mℹ\u001b[39m Use `spec()` to retrieve the full column specification for this data.\n",
      "\u001b[36mℹ\u001b[39m Specify the column types or set `show_col_types = FALSE` to quiet this message.\n"
     ]
    },
    {
     "name": "stdout",
     "output_type": "stream",
     "text": [
      "[1] \"Figure 1 - Raw dataset\"\n"
     ]
    },
    {
     "data": {
      "text/html": [
       "<table class=\"dataframe\">\n",
       "<caption>A tibble: 6 × 10</caption>\n",
       "<thead>\n",
       "\t<tr><th scope=col>TYPE</th><th scope=col>YEAR</th><th scope=col>MONTH</th><th scope=col>DAY</th><th scope=col>HOUR</th><th scope=col>MINUTE</th><th scope=col>HUNDRED_BLOCK</th><th scope=col>NEIGHBOURHOOD</th><th scope=col>X</th><th scope=col>Y</th></tr>\n",
       "\t<tr><th scope=col>&lt;chr&gt;</th><th scope=col>&lt;dbl&gt;</th><th scope=col>&lt;dbl&gt;</th><th scope=col>&lt;dbl&gt;</th><th scope=col>&lt;dbl&gt;</th><th scope=col>&lt;dbl&gt;</th><th scope=col>&lt;chr&gt;</th><th scope=col>&lt;chr&gt;</th><th scope=col>&lt;dbl&gt;</th><th scope=col>&lt;dbl&gt;</th></tr>\n",
       "</thead>\n",
       "<tbody>\n",
       "\t<tr><td>Break and Enter Commercial</td><td>2012</td><td>12</td><td>14</td><td> 8</td><td>52</td><td>NA             </td><td>Oakridge</td><td>491285.0</td><td>5453433</td></tr>\n",
       "\t<tr><td>Break and Enter Commercial</td><td>2019</td><td> 3</td><td> 7</td><td> 2</td><td> 6</td><td>10XX SITKA SQ  </td><td>Fairview</td><td>490613.0</td><td>5457110</td></tr>\n",
       "\t<tr><td>Break and Enter Commercial</td><td>2019</td><td> 8</td><td>27</td><td> 4</td><td>12</td><td>10XX ALBERNI ST</td><td>West End</td><td>491007.8</td><td>5459174</td></tr>\n",
       "\t<tr><td>Break and Enter Commercial</td><td>2021</td><td> 4</td><td>26</td><td> 4</td><td>44</td><td>10XX ALBERNI ST</td><td>West End</td><td>491007.8</td><td>5459174</td></tr>\n",
       "\t<tr><td>Break and Enter Commercial</td><td>2014</td><td> 8</td><td> 8</td><td> 5</td><td>13</td><td>10XX ALBERNI ST</td><td>West End</td><td>491015.9</td><td>5459166</td></tr>\n",
       "\t<tr><td>Break and Enter Commercial</td><td>2020</td><td> 7</td><td>28</td><td>19</td><td>12</td><td>10XX ALBERNI ST</td><td>West End</td><td>491015.9</td><td>5459166</td></tr>\n",
       "</tbody>\n",
       "</table>\n"
      ],
      "text/latex": [
       "A tibble: 6 × 10\n",
       "\\begin{tabular}{llllllllll}\n",
       " TYPE & YEAR & MONTH & DAY & HOUR & MINUTE & HUNDRED\\_BLOCK & NEIGHBOURHOOD & X & Y\\\\\n",
       " <chr> & <dbl> & <dbl> & <dbl> & <dbl> & <dbl> & <chr> & <chr> & <dbl> & <dbl>\\\\\n",
       "\\hline\n",
       "\t Break and Enter Commercial & 2012 & 12 & 14 &  8 & 52 & NA              & Oakridge & 491285.0 & 5453433\\\\\n",
       "\t Break and Enter Commercial & 2019 &  3 &  7 &  2 &  6 & 10XX SITKA SQ   & Fairview & 490613.0 & 5457110\\\\\n",
       "\t Break and Enter Commercial & 2019 &  8 & 27 &  4 & 12 & 10XX ALBERNI ST & West End & 491007.8 & 5459174\\\\\n",
       "\t Break and Enter Commercial & 2021 &  4 & 26 &  4 & 44 & 10XX ALBERNI ST & West End & 491007.8 & 5459174\\\\\n",
       "\t Break and Enter Commercial & 2014 &  8 &  8 &  5 & 13 & 10XX ALBERNI ST & West End & 491015.9 & 5459166\\\\\n",
       "\t Break and Enter Commercial & 2020 &  7 & 28 & 19 & 12 & 10XX ALBERNI ST & West End & 491015.9 & 5459166\\\\\n",
       "\\end{tabular}\n"
      ],
      "text/markdown": [
       "\n",
       "A tibble: 6 × 10\n",
       "\n",
       "| TYPE &lt;chr&gt; | YEAR &lt;dbl&gt; | MONTH &lt;dbl&gt; | DAY &lt;dbl&gt; | HOUR &lt;dbl&gt; | MINUTE &lt;dbl&gt; | HUNDRED_BLOCK &lt;chr&gt; | NEIGHBOURHOOD &lt;chr&gt; | X &lt;dbl&gt; | Y &lt;dbl&gt; |\n",
       "|---|---|---|---|---|---|---|---|---|---|\n",
       "| Break and Enter Commercial | 2012 | 12 | 14 |  8 | 52 | NA              | Oakridge | 491285.0 | 5453433 |\n",
       "| Break and Enter Commercial | 2019 |  3 |  7 |  2 |  6 | 10XX SITKA SQ   | Fairview | 490613.0 | 5457110 |\n",
       "| Break and Enter Commercial | 2019 |  8 | 27 |  4 | 12 | 10XX ALBERNI ST | West End | 491007.8 | 5459174 |\n",
       "| Break and Enter Commercial | 2021 |  4 | 26 |  4 | 44 | 10XX ALBERNI ST | West End | 491007.8 | 5459174 |\n",
       "| Break and Enter Commercial | 2014 |  8 |  8 |  5 | 13 | 10XX ALBERNI ST | West End | 491015.9 | 5459166 |\n",
       "| Break and Enter Commercial | 2020 |  7 | 28 | 19 | 12 | 10XX ALBERNI ST | West End | 491015.9 | 5459166 |\n",
       "\n"
      ],
      "text/plain": [
       "  TYPE                       YEAR MONTH DAY HOUR MINUTE HUNDRED_BLOCK  \n",
       "1 Break and Enter Commercial 2012 12    14   8   52     NA             \n",
       "2 Break and Enter Commercial 2019  3     7   2    6     10XX SITKA SQ  \n",
       "3 Break and Enter Commercial 2019  8    27   4   12     10XX ALBERNI ST\n",
       "4 Break and Enter Commercial 2021  4    26   4   44     10XX ALBERNI ST\n",
       "5 Break and Enter Commercial 2014  8     8   5   13     10XX ALBERNI ST\n",
       "6 Break and Enter Commercial 2020  7    28  19   12     10XX ALBERNI ST\n",
       "  NEIGHBOURHOOD X        Y      \n",
       "1 Oakridge      491285.0 5453433\n",
       "2 Fairview      490613.0 5457110\n",
       "3 West End      491007.8 5459174\n",
       "4 West End      491007.8 5459174\n",
       "5 West End      491015.9 5459166\n",
       "6 West End      491015.9 5459166"
      ]
     },
     "metadata": {},
     "output_type": "display_data"
    }
   ],
   "source": [
    "# Data uploaded to open GitHub repository\n",
    "# Data reading \n",
    "crimedata <- read_csv('https://raw.githubusercontent.com/samnthorne/STAT201_Group40/main/crimedata_csv_AllNeighbourhoods_AllYears.csv')\n",
    "\n",
    "print( \"Table 1 - Raw dataset\")\n",
    "head(crimedata)"
   ]
  },
  {
   "cell_type": "markdown",
   "id": "416723ef-05b2-4806-8ddf-1db931a0e215",
   "metadata": {},
   "source": [
    "We keep the `TYPE`, `YEAR` and `NEIGHBOURHOOD` columns and remove rows containing NA values. We define the districts via the `NEIGHBOURHOOD` column, referencing Globe Media Ltd. (2022)."
   ]
  },
  {
   "cell_type": "code",
   "execution_count": 8,
   "id": "261010e5-53e5-4bc6-a8f1-2553eb5fd3e7",
   "metadata": {},
   "outputs": [
    {
     "name": "stdout",
     "output_type": "stream",
     "text": [
      "[1] \"Figure 2 - Sampe of Wrangled Data\"\n"
     ]
    },
    {
     "data": {
      "text/html": [
       "<table class=\"dataframe\">\n",
       "<caption>A tibble: 6 × 3</caption>\n",
       "<thead>\n",
       "\t<tr><th scope=col>YEAR</th><th scope=col>TYPE</th><th scope=col>DISTRICT</th></tr>\n",
       "\t<tr><th scope=col>&lt;dbl&gt;</th><th scope=col>&lt;chr&gt;</th><th scope=col>&lt;chr&gt;</th></tr>\n",
       "</thead>\n",
       "<tbody>\n",
       "\t<tr><td>2012</td><td>Break and Enter</td><td>West   </td></tr>\n",
       "\t<tr><td>2019</td><td>Break and Enter</td><td>West   </td></tr>\n",
       "\t<tr><td>2019</td><td>Break and Enter</td><td>Central</td></tr>\n",
       "\t<tr><td>2021</td><td>Break and Enter</td><td>Central</td></tr>\n",
       "\t<tr><td>2014</td><td>Break and Enter</td><td>Central</td></tr>\n",
       "\t<tr><td>2020</td><td>Break and Enter</td><td>Central</td></tr>\n",
       "</tbody>\n",
       "</table>\n"
      ],
      "text/latex": [
       "A tibble: 6 × 3\n",
       "\\begin{tabular}{lll}\n",
       " YEAR & TYPE & DISTRICT\\\\\n",
       " <dbl> & <chr> & <chr>\\\\\n",
       "\\hline\n",
       "\t 2012 & Break and Enter & West   \\\\\n",
       "\t 2019 & Break and Enter & West   \\\\\n",
       "\t 2019 & Break and Enter & Central\\\\\n",
       "\t 2021 & Break and Enter & Central\\\\\n",
       "\t 2014 & Break and Enter & Central\\\\\n",
       "\t 2020 & Break and Enter & Central\\\\\n",
       "\\end{tabular}\n"
      ],
      "text/markdown": [
       "\n",
       "A tibble: 6 × 3\n",
       "\n",
       "| YEAR &lt;dbl&gt; | TYPE &lt;chr&gt; | DISTRICT &lt;chr&gt; |\n",
       "|---|---|---|\n",
       "| 2012 | Break and Enter | West    |\n",
       "| 2019 | Break and Enter | West    |\n",
       "| 2019 | Break and Enter | Central |\n",
       "| 2021 | Break and Enter | Central |\n",
       "| 2014 | Break and Enter | Central |\n",
       "| 2020 | Break and Enter | Central |\n",
       "\n"
      ],
      "text/plain": [
       "  YEAR TYPE            DISTRICT\n",
       "1 2012 Break and Enter West    \n",
       "2 2019 Break and Enter West    \n",
       "3 2019 Break and Enter Central \n",
       "4 2021 Break and Enter Central \n",
       "5 2014 Break and Enter Central \n",
       "6 2020 Break and Enter Central "
      ]
     },
     "metadata": {},
     "output_type": "display_data"
    }
   ],
   "source": [
    "# Dropping unnecessary columns and filtering out NA values.\n",
    "selected_crimedata <- crimedata %>%\n",
    "    select('YEAR', 'NEIGHBOURHOOD', 'TYPE') %>%\n",
    "    filter(!is.na(NEIGHBOURHOOD)) %>%\n",
    "    filter(!is.na(YEAR)) # dropping NA values in the neighbourhood column and in the year column. \n",
    "\n",
    "# Defining the districts of Vancouver. \n",
    "central = c('Central Business District', 'Stanley Park', 'West End')\n",
    "west = c('Fairview', 'Kitsilano', 'West Point Grey',  \n",
    "        'Shaughnessy', 'Musqueam', 'Arbutus Ridge', 'South Cambie', 'Oakridge')\n",
    "east = c('Grandview-Woodland', 'Mount Pleasant', 'Kensington-Cedar Cottage',\n",
    "         'Riley Park', 'Strathcona', 'Hastings-Sunrise', 'Killarney')\n",
    "south = c('Dunbar-Southlands', 'Kerrisdale', 'Marpole','Sunset', 'Victoria-Fraserview', \n",
    "          'Renfrew-Collingwood','Killarney')\n",
    "\n",
    "# Creating a new column in the data frame of district, value can be Central, West, East, or South depending on neighbourhood\n",
    "# Dropping the neighbourhood column as we exclusively look at district.\n",
    "district_crimedata <- selected_crimedata %>%\n",
    "    mutate(DISTRICT = case_when(\n",
    "        NEIGHBOURHOOD == 'Central Business District' | NEIGHBOURHOOD == 'Stanley Park' | NEIGHBOURHOOD == 'West End' ~ 'Central',\n",
    "        NEIGHBOURHOOD == 'Fairview' | NEIGHBOURHOOD == 'Kitsilano'| NEIGHBOURHOOD =='West Point Grey'|\n",
    "        NEIGHBOURHOOD == 'Shaughnessy'| NEIGHBOURHOOD == 'Musqueam'|\n",
    "        NEIGHBOURHOOD == 'Arbutus Ridge'| NEIGHBOURHOOD == 'South Cambie' | NEIGHBOURHOOD == 'Oakridge' ~ 'West',\n",
    "        NEIGHBOURHOOD == 'Grandview-Woodland'| NEIGHBOURHOOD == 'Mount Pleasant'| \n",
    "        NEIGHBOURHOOD == 'Kensington-Cedar Cottage'| NEIGHBOURHOOD == 'Riley Park'| NEIGHBOURHOOD == 'Strathcona'|\n",
    "        NEIGHBOURHOOD == 'Hastings-Sunrise' ~ 'East',\n",
    "        NEIGHBOURHOOD == 'Dunbar-Southlands'|NEIGHBOURHOOD == 'Kerrisdale' | NEIGHBOURHOOD == 'Marpole'|NEIGHBOURHOOD == 'Sunset'|\n",
    "        NEIGHBOURHOOD == 'Victoria-Fraserview'|NEIGHBOURHOOD == 'Renfrew-Collingwood'|NEIGHBOURHOOD == 'Killarney'~'South')) %>%\n",
    "    select(-NEIGHBOURHOOD)\n",
    "    # filtering(is.na(DISTRICT)) # used to ensure every neighbourhood in the data has been included during debugging\n",
    "\n",
    "# The minimum year in this data is 2003 so this is how far back we look.\n",
    "# We defined 2021 as the maximum year in our data since 2022 was not over at the time of this research execution.\n",
    "\n",
    "# Removing the year 2022 from the data\n",
    "year_crime_data <- district_crimedata %>%\n",
    "    filter(YEAR != 2022)\n",
    "\n",
    "# Grouping the type of crime into more broad categories for better interpretability. \n",
    "# Removing car accident type to reduce noise as the research is investigating crimininality\n",
    "crime_data<- year_crime_data %>%\n",
    "    mutate(TYPE = case_when(\n",
    "        TYPE == \"Break and Enter Commercial\"|TYPE == \"Break and Enter Residential/Other\" ~ \"Break and Enter\",\n",
    "        TYPE == \"Other Theft\"|TYPE == \"Theft from Vehicle\"|TYPE == \"Theft of Bicycle\"|TYPE == \"Theft of Vehicle\" ~ \"Theft\",\n",
    "        TYPE == 'Homicide' ~ 'Homicide', TYPE == 'Mischief'~'Mischief', TYPE == 'Offence Against a Person'~'Offence Against a Person')) %>%\n",
    "    filter(!is.na(TYPE))\n",
    "\n",
    "print(\"Table 2 - Sampe of Wrangled Data\")\n",
    "head(crime_data)"
   ]
  },
  {
   "cell_type": "markdown",
   "id": "5b2697c0-3ad4-4946-b1f8-23a2c9930b2b",
   "metadata": {},
   "source": [
    "### Estimates\n",
    "We calculated the proportion of crime in each district per year, then found the mean of these proportions of crime in each district from the years 2003 to 2021."
   ]
  },
  {
   "cell_type": "code",
   "execution_count": 9,
   "id": "6120540e-630a-472c-a990-7179e535e958",
   "metadata": {},
   "outputs": [
    {
     "name": "stdout",
     "output_type": "stream",
     "text": [
      "[1] \"Figure 3 - Average annual proportion of crime in each district\"\n"
     ]
    },
    {
     "data": {
      "text/html": [
       "<table class=\"dataframe\">\n",
       "<caption>A tibble: 4 × 2</caption>\n",
       "<thead>\n",
       "\t<tr><th scope=col>DISTRICT</th><th scope=col>MEAN_PROP</th></tr>\n",
       "\t<tr><th scope=col>&lt;chr&gt;</th><th scope=col>&lt;dbl&gt;</th></tr>\n",
       "</thead>\n",
       "<tbody>\n",
       "\t<tr><td>Central</td><td>0.3710028</td></tr>\n",
       "\t<tr><td>East   </td><td>0.2888026</td></tr>\n",
       "\t<tr><td>South  </td><td>0.1748564</td></tr>\n",
       "\t<tr><td>West   </td><td>0.1719381</td></tr>\n",
       "</tbody>\n",
       "</table>\n"
      ],
      "text/latex": [
       "A tibble: 4 × 2\n",
       "\\begin{tabular}{ll}\n",
       " DISTRICT & MEAN\\_PROP\\\\\n",
       " <chr> & <dbl>\\\\\n",
       "\\hline\n",
       "\t Central & 0.3710028\\\\\n",
       "\t East    & 0.2888026\\\\\n",
       "\t South   & 0.1748564\\\\\n",
       "\t West    & 0.1719381\\\\\n",
       "\\end{tabular}\n"
      ],
      "text/markdown": [
       "\n",
       "A tibble: 4 × 2\n",
       "\n",
       "| DISTRICT &lt;chr&gt; | MEAN_PROP &lt;dbl&gt; |\n",
       "|---|---|\n",
       "| Central | 0.3710028 |\n",
       "| East    | 0.2888026 |\n",
       "| South   | 0.1748564 |\n",
       "| West    | 0.1719381 |\n",
       "\n"
      ],
      "text/plain": [
       "  DISTRICT MEAN_PROP\n",
       "1 Central  0.3710028\n",
       "2 East     0.2888026\n",
       "3 South    0.1748564\n",
       "4 West     0.1719381"
      ]
     },
     "metadata": {},
     "output_type": "display_data"
    }
   ],
   "source": [
    "# Added another column to the data which holds the proportion of crime for the corresponding district and year\n",
    "# of the row.\n",
    "prop_data <- crime_data %>%\n",
    "    group_by(YEAR) %>%\n",
    "    mutate(num_year = n()) %>%\n",
    "    ungroup() %>%\n",
    "    group_by(YEAR, DISTRICT) %>%\n",
    "    mutate(PROP = n()/num_year) %>%\n",
    "    select(-num_year)\n",
    "\n",
    "\n",
    "# Using the proportion found above, find the mean over all years for each district.\n",
    "estimation_table <- prop_data %>%\n",
    "    group_by(DISTRICT) %>%\n",
    "    summarise(MEAN_PROP = mean(PROP))\n",
    "\n",
    "print(\"Table 3 - Average annual proportion of crime in each district\")\n",
    "estimation_table"
   ]
  },
  {
   "cell_type": "markdown",
   "id": "a9ce4778-460d-4b37-9d98-0ae5c265796d",
   "metadata": {},
   "source": [
    "**Interpretation**: The results indicate that Central has the highest proportion of total crime, followed by the East. The South and West have similar proportions."
   ]
  },
  {
   "cell_type": "markdown",
   "id": "f383fc45-31ba-4c49-84b9-d2a7f20fe345",
   "metadata": {},
   "source": [
    "#### Data Plots"
   ]
  },
  {
   "cell_type": "code",
   "execution_count": 11,
   "id": "4aaf5838-eba3-4f8a-a1ac-e30702de7d75",
   "metadata": {},
   "outputs": [
    {
     "name": "stdout",
     "output_type": "stream",
     "text": [
      "[1] \"Figure 1\"\n"
     ]
    },
    {
     "data": {
      "image/png": "[encoded data removed]",
      "text/plain": [
       "plot without title"
      ]
     },
     "metadata": {
      "image/png": {
       "height": 600,
       "width": 600
      }
     },
     "output_type": "display_data"
    }
   ],
   "source": [
    "options(repr.plot.width = 10, repr.plot.height = 10)\n",
    "\n",
    "years_vis <- crime_data %>%\n",
    "    ggplot(aes(x = YEAR, fill = TYPE))+\n",
    "    geom_histogram(binwidth = 1, color = 'white')+\n",
    "    theme_classic() +\n",
    "    theme(legend.position=\"right\", \n",
    "          text = element_text(size = 10)) +\n",
    "    labs(title = \"Frequency of crimes and type of crime in each district in Vancouver \\n through the years 2003 to 2021\",\n",
    "         x = \"Year\",\n",
    "         y = \"Number of Crimes\",\n",
    "         fill = \"Type of Crime\")+\n",
    "    facet_wrap(~DISTRICT, ncol = 4)+\n",
    "    scale_fill_brewer(palette = 'Set2') # colorblind friendly palette.\n",
    "\n",
    "print(\"Figure 1\")\n",
    "print(years_vis)"
   ]
  },
  {
   "cell_type": "markdown",
   "id": "9578cfa6-f326-4882-bb90-6200fe1c4aa7",
   "metadata": {},
   "source": [
    "The plots above show the amount of crime in all four districts from 2003 to 2021. The stacks in the bar graph  colour-code the types of crimes for further analysis.\n",
    "\n",
    "**Interpretation**: We can see that the Central district has had consistently more incidents than the other regions, followed by the East, which is consistent with the interpretation above. There also appear to be two different trends over the years. Central and East saw a sharp decline in crime from around 2003 to 2011, followed by a sharp increase in crime until 2019 and a fall in 2020, building a v-shaped distribution. The South and West saw a similar decline in crime in the early 2000s, however, they have remained relatively stable since. All distributions appear to indicate a reduction for the years 2020 and 2021.\n",
    "\n",
    "We can also see that the majority of crimes fall into the category of 'Theft' for every district. There are lower levels of all the other crime types. The trends of crime types in each district appear quite similar between districts. "
   ]
  },
  {
   "cell_type": "markdown",
   "id": "e150d66f-4217-481a-85ae-53e69190d255",
   "metadata": {},
   "source": [
    "### Crime type analysis"
   ]
  },
  {
   "cell_type": "code",
   "execution_count": 13,
   "id": "24516a24-a14d-4b6b-8040-48e0b9dfbf2d",
   "metadata": {},
   "outputs": [
    {
     "name": "stdout",
     "output_type": "stream",
     "text": [
      "[1] \"Table 4 - Crime types and count in each district\"\n"
     ]
    },
    {
     "data": {
      "text/html": [
       "<table class=\"dataframe\">\n",
       "<caption>A tibble: 4 × 6</caption>\n",
       "<thead>\n",
       "\t<tr><th scope=col>DISTRICT</th><th scope=col>break_and_enter</th><th scope=col>homicide</th><th scope=col>mischief</th><th scope=col>offence</th><th scope=col>theft</th></tr>\n",
       "\t<tr><th scope=col>&lt;chr&gt;</th><th scope=col>&lt;int&gt;</th><th scope=col>&lt;int&gt;</th><th scope=col>&lt;int&gt;</th><th scope=col>&lt;int&gt;</th><th scope=col>&lt;int&gt;</th></tr>\n",
       "</thead>\n",
       "<tbody>\n",
       "\t<tr><td>Central</td><td>24251</td><td> 85</td><td>32638</td><td>28173</td><td>204421</td></tr>\n",
       "\t<tr><td>East   </td><td>36435</td><td>112</td><td>30455</td><td>24860</td><td>135234</td></tr>\n",
       "\t<tr><td>South  </td><td>26209</td><td> 72</td><td>18862</td><td>10859</td><td> 80137</td></tr>\n",
       "\t<tr><td>West   </td><td>27628</td><td> 23</td><td>14323</td><td> 5824</td><td> 86269</td></tr>\n",
       "</tbody>\n",
       "</table>\n"
      ],
      "text/latex": [
       "A tibble: 4 × 6\n",
       "\\begin{tabular}{llllll}\n",
       " DISTRICT & break\\_and\\_enter & homicide & mischief & offence & theft\\\\\n",
       " <chr> & <int> & <int> & <int> & <int> & <int>\\\\\n",
       "\\hline\n",
       "\t Central & 24251 &  85 & 32638 & 28173 & 204421\\\\\n",
       "\t East    & 36435 & 112 & 30455 & 24860 & 135234\\\\\n",
       "\t South   & 26209 &  72 & 18862 & 10859 &  80137\\\\\n",
       "\t West    & 27628 &  23 & 14323 &  5824 &  86269\\\\\n",
       "\\end{tabular}\n"
      ],
      "text/markdown": [
       "\n",
       "A tibble: 4 × 6\n",
       "\n",
       "| DISTRICT &lt;chr&gt; | break_and_enter &lt;int&gt; | homicide &lt;int&gt; | mischief &lt;int&gt; | offence &lt;int&gt; | theft &lt;int&gt; |\n",
       "|---|---|---|---|---|---|\n",
       "| Central | 24251 |  85 | 32638 | 28173 | 204421 |\n",
       "| East    | 36435 | 112 | 30455 | 24860 | 135234 |\n",
       "| South   | 26209 |  72 | 18862 | 10859 |  80137 |\n",
       "| West    | 27628 |  23 | 14323 |  5824 |  86269 |\n",
       "\n"
      ],
      "text/plain": [
       "  DISTRICT break_and_enter homicide mischief offence theft \n",
       "1 Central  24251            85      32638    28173   204421\n",
       "2 East     36435           112      30455    24860   135234\n",
       "3 South    26209            72      18862    10859    80137\n",
       "4 West     27628            23      14323     5824    86269"
      ]
     },
     "metadata": {},
     "output_type": "display_data"
    }
   ],
   "source": [
    "#Helper functions \n",
    "\n",
    "break_and_enter <- filter(crime_data, TYPE == \"Break and Enter\" ) %>%\n",
    "    group_by (DISTRICT) %>%\n",
    "    summarise(break_and_enter = n())\n",
    "\n",
    "homicide <- filter(crime_data, TYPE == \"Homicide\" ) %>%\n",
    "    group_by (DISTRICT) %>%\n",
    "    summarise(homicide = n())\n",
    "\n",
    "mischief <- filter(crime_data, TYPE == \"Mischief\" ) %>%\n",
    "    group_by (DISTRICT) %>%\n",
    "    summarise(mischief = n())\n",
    "\n",
    "offence <- filter(crime_data, TYPE == \"Offence Against a Person\" ) %>%\n",
    "    group_by (DISTRICT) %>%\n",
    "    summarise(offence = n())\n",
    "\n",
    "theft <- filter(crime_data, TYPE == \"Theft\" ) %>%\n",
    "    group_by (DISTRICT) %>%\n",
    "    summarise(theft = n())\n",
    "\n",
    "# Data frame\n",
    "\n",
    "crime_type <- list(break_and_enter, homicide, mischief, offence,theft) %>% reduce(inner_join, by='DISTRICT')\n",
    "\n",
    "print(\"Table 4 - Crime types and count in each district\")\n",
    "crime_type"
   ]
  },
  {
   "cell_type": "markdown",
   "id": "360ce0dc-55a8-446d-b597-55b6124759c4",
   "metadata": {},
   "source": [
    "The table above shows that Central is subject to the biggest amount of Mischief, Offence Against a Person, and Theft. The East is subject to most Break and Enters and Homicides. This is consistent with the findings above and demonstrates a concerning difference between these districts and the South/ West. It also shows that while the South and West have similar total crime proportions, the South is more subject to violent crime types (Homicide and Offence Against a Person). "
   ]
  },
  {
   "cell_type": "markdown",
   "id": "7fd4a9ef-fe60-4fcc-baef-6425f62b6bf9",
   "metadata": {},
   "source": [
    "### Hypothesis Test"
   ]
  },
  {
   "cell_type": "markdown",
   "id": "89de697a-12a2-43c9-8e6f-0b65293b43e5",
   "metadata": {},
   "source": [
    "We defined a hypothesis test to determine if there is a significant difference between the average annual proportion of crimes in different districts of Vancouver.\n",
    "\n",
    "Let $c$ = central, $w$ = west, $s$ = south, $e$ = east\n",
    "\n",
    "$H_0: p_c = p_w = p_s = p_e$\n",
    "\n",
    "$H_A: p_c \\ne p_w \\ne p_s \\ne p_e$\n"
   ]
  },
  {
   "cell_type": "markdown",
   "id": "fe59cd0f-033d-43bd-a983-d1787950cc9e",
   "metadata": {},
   "source": [
    "### One-way ANOVA"
   ]
  },
  {
   "cell_type": "markdown",
   "id": "6363385a-2d4f-454d-9dc2-a882070f2e47",
   "metadata": {},
   "source": [
    "We chose this as it tests whether there is a difference in means of the groups at each level of the independent single variable. We also chose a critical value of $\\alpha = 0.05$."
   ]
  },
  {
   "cell_type": "code",
   "execution_count": 17,
   "id": "5ee79023-f9c5-4fb5-89f9-2e447db3a8ed",
   "metadata": {},
   "outputs": [
    {
     "name": "stderr",
     "output_type": "stream",
     "text": [
      "\u001b[1m\u001b[22m`summarise()` has grouped output by 'YEAR'. You can override using the\n",
      "`.groups` argument.\n"
     ]
    },
    {
     "name": "stdout",
     "output_type": "stream",
     "text": [
      "[1] \"Table 5 - Mean proportions of each district per year\"\n"
     ]
    },
    {
     "data": {
      "text/html": [
       "<table class=\"dataframe\">\n",
       "<caption>A grouped_df: 6 × 3</caption>\n",
       "<thead>\n",
       "\t<tr><th scope=col>YEAR</th><th scope=col>DISTRICT</th><th scope=col>MEAN_PROP</th></tr>\n",
       "\t<tr><th scope=col>&lt;dbl&gt;</th><th scope=col>&lt;chr&gt;</th><th scope=col>&lt;dbl&gt;</th></tr>\n",
       "</thead>\n",
       "<tbody>\n",
       "\t<tr><td>2003</td><td>Central</td><td>0.3417568</td></tr>\n",
       "\t<tr><td>2003</td><td>East   </td><td>0.2861583</td></tr>\n",
       "\t<tr><td>2003</td><td>South  </td><td>0.1757165</td></tr>\n",
       "\t<tr><td>2003</td><td>West   </td><td>0.1963684</td></tr>\n",
       "\t<tr><td>2004</td><td>Central</td><td>0.3163523</td></tr>\n",
       "\t<tr><td>2004</td><td>East   </td><td>0.2957473</td></tr>\n",
       "</tbody>\n",
       "</table>\n"
      ],
      "text/latex": [
       "A grouped\\_df: 6 × 3\n",
       "\\begin{tabular}{lll}\n",
       " YEAR & DISTRICT & MEAN\\_PROP\\\\\n",
       " <dbl> & <chr> & <dbl>\\\\\n",
       "\\hline\n",
       "\t 2003 & Central & 0.3417568\\\\\n",
       "\t 2003 & East    & 0.2861583\\\\\n",
       "\t 2003 & South   & 0.1757165\\\\\n",
       "\t 2003 & West    & 0.1963684\\\\\n",
       "\t 2004 & Central & 0.3163523\\\\\n",
       "\t 2004 & East    & 0.2957473\\\\\n",
       "\\end{tabular}\n"
      ],
      "text/markdown": [
       "\n",
       "A grouped_df: 6 × 3\n",
       "\n",
       "| YEAR &lt;dbl&gt; | DISTRICT &lt;chr&gt; | MEAN_PROP &lt;dbl&gt; |\n",
       "|---|---|---|\n",
       "| 2003 | Central | 0.3417568 |\n",
       "| 2003 | East    | 0.2861583 |\n",
       "| 2003 | South   | 0.1757165 |\n",
       "| 2003 | West    | 0.1963684 |\n",
       "| 2004 | Central | 0.3163523 |\n",
       "| 2004 | East    | 0.2957473 |\n",
       "\n"
      ],
      "text/plain": [
       "  YEAR DISTRICT MEAN_PROP\n",
       "1 2003 Central  0.3417568\n",
       "2 2003 East     0.2861583\n",
       "3 2003 South    0.1757165\n",
       "4 2003 West     0.1963684\n",
       "5 2004 Central  0.3163523\n",
       "6 2004 East     0.2957473"
      ]
     },
     "metadata": {},
     "output_type": "display_data"
    }
   ],
   "source": [
    "per_year_data <- prop_data%>%\n",
    "    group_by(YEAR, DISTRICT)%>%\n",
    "    summarise(MEAN_PROP = mean(PROP))\n",
    "print('Table 5 - Mean proportions of each district per year')\n",
    "head(per_year_data)"
   ]
  },
  {
   "cell_type": "code",
   "execution_count": 15,
   "id": "07d45407-d912-4853-b7eb-a5f1bb65ba9b",
   "metadata": {},
   "outputs": [
    {
     "data": {
      "text/plain": [
       "     term                 df            sumsq             meansq         \n",
       " Length:2           Min.   : 3.00   Min.   :0.02976   Min.   :0.0004134  \n",
       " Class :character   1st Qu.:20.25   1st Qu.:0.15715   1st Qu.:0.0452526  \n",
       " Mode  :character   Median :37.50   Median :0.28454   Median :0.0900919  \n",
       "                    Mean   :37.50   Mean   :0.28454   Mean   :0.0900919  \n",
       "                    3rd Qu.:54.75   3rd Qu.:0.41192   3rd Qu.:0.1349312  \n",
       "                    Max.   :72.00   Max.   :0.53931   Max.   :0.1797704  \n",
       "                                                                         \n",
       "   statistic        p.value \n",
       " Min.   :434.9   Min.   :0  \n",
       " 1st Qu.:434.9   1st Qu.:0  \n",
       " Median :434.9   Median :0  \n",
       " Mean   :434.9   Mean   :0  \n",
       " 3rd Qu.:434.9   3rd Qu.:0  \n",
       " Max.   :434.9   Max.   :0  \n",
       " NA's   :1       NA's   :1  "
      ]
     },
     "metadata": {},
     "output_type": "display_data"
    }
   ],
   "source": [
    "one.way <- aov(MEAN_PROP ~ DISTRICT, data = per_year_data)%>% \n",
    "    tidy()\n",
    "\n",
    "summary(one.way)"
   ]
  },
  {
   "cell_type": "markdown",
   "id": "1ae0a93e-dc0a-44fb-aeaf-d13e018a8e3e",
   "metadata": {},
   "source": [
    "**Interpretation**The results above indicate an F statistic of 434.9, which is the ratio of the mean sum of squares (the variance explained by the independent variable) to the mean square error (the variance leftover). This is higher than the critical value (0.05) and we can conclude that the difference among groups is statistically significant. The p-value is also 0, which indicates that it is extremely unlikely that the F-value calculated from the test would have occurred if the null hypothesis were true. \n",
    "From these results we can say that we reject $H_0$. In doing so we can say there is a significant difference of the proportion of crime for each district in Vancouver. \n",
    "\n",
    "**Note**: Since the dataset includes the entire population of police-reported crimes, we do not need to use a bootstrap method. In the context of our trustworthy and complete dataset, the asymptotic method provides better results."
   ]
  },
  {
   "cell_type": "markdown",
   "id": "d378b7ab-6073-460d-b142-80131470d3e5",
   "metadata": {},
   "source": [
    "## Discussion"
   ]
  },
  {
   "cell_type": "markdown",
   "id": "7912f585-3515-42d5-af5d-1d828382b688",
   "metadata": {},
   "source": [
    "Not many studies are openly available to the public on police-reported crime rates in BC and we could not find any that take a micro-focused look into the districts of Vancouver. Therefore, we believe this study could contribute to further analysis of criminality from a community perspective. Deeper insight into crime rates across the Vancouver districts will inform citizens (as advocates for their communities) about the realities of their region, empowering them to use this information for political and community-building purposes. \n",
    "\n",
    "One limitation of this study is that it uses police-reported crime rates, and under-reporting could influence the findings. However, we assume that underreporting rates are the same across all districts or worse in violent districts. This understanding is consistent with the current body of research on police perception and reporting, for example (La Vigne et al., 2017). Therefore, this limitation should not change the interpretation of the findings and could possibly strenghen them. \n",
    "\n",
    "This study has found that crime proportions have been persistently unequal across the districts studied, with the Central and East regions being subject to significantly higher proportions. This finding is also true across all crime types. Trends have varied across the different districts but appear to group them into Central/ East and South/ West. With crime rates having increasing in the Central/East districts after around 2010 and remaining low in the South/West. \n",
    "\n",
    "These two factors show that increased research is necessary to indicate what has differentiated these two groups of regions. More specifically, future research could investigate police action, community development projects, and economic disparity across these districts. We hope that future research can provide answers and solutions to the disparity.\n"
   ]
  },
  {
   "cell_type": "markdown",
   "id": "c5012f8c-ee27-4b07-abd2-a4b71fd7a59e",
   "metadata": {},
   "source": [
    "## References"
   ]
  },
  {
   "cell_type": "markdown",
   "id": "1fc6c395-2aea-4186-8edd-3690e6f4e377",
   "metadata": {},
   "source": [
    "\n",
    "(STATCAN, 2021) https://www150.statcan.gc.ca/n1/pub/85-002-x/2022001/article/00013-eng.htm\n",
    "\n",
    "(JUSTICE CANADA, 2022) https://www.justice.gc.ca/eng/rp-pr/csj-sjc/crime/rr01_1/p0.html\n",
    "\n",
    "(GLOBE MEDIA LTD., 2022) https://www.expatarrivals.com/americas/canada/vancouver/areas-and-suburbs-vancouver\n",
    "\n",
    "(USCIDA et al., 2014) https://www.ojp.gov/pdffiles1/nij/grants/245408.pdf\n",
    "\n",
    "(La Vigne et al., 2017) https://www.urban.org/sites/default/files/publication/88476/how_do_people_in_high-crime_view_the_police.pdf"
   ]
  }
 ],
 "metadata": {
  "kernelspec": {
   "display_name": "R [conda env:anaconda3-stat201]",
   "language": "R",
   "name": "conda-env-anaconda3-stat201-r"
  },
  "language_info": {
   "codemirror_mode": "r",
   "file_extension": ".r",
   "mimetype": "text/x-r-source",
   "name": "R",
   "pygments_lexer": "r",
   "version": "4.2.1"
  }
 },
 "nbformat": 4,
 "nbformat_minor": 5
}
