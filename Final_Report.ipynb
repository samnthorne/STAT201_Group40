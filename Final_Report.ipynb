{
 "cells": [
  {
   "cell_type": "markdown",
   "metadata": {},
   "source": [
    "# Criminality Across Vancouver Neighbourhoods"
   ]
  },
  {
   "cell_type": "markdown",
   "metadata": {},
   "source": [
    "By: Isabela Lucas Bruxellas, Sam Thorne, Sean Meng"
   ]
  },
  {
   "cell_type": "markdown",
   "metadata": {},
   "source": [
    "## Introduction"
   ]
  },
  {
   "cell_type": "markdown",
   "metadata": {
    "jp-MarkdownHeadingCollapsed": true,
    "tags": []
   },
   "source": [
    "#### Background Information\n",
    "\n",
    "Despite nationwide crime rates declining since the 1990s in Canada (STATCAN 2021), many Canadians still fear crime, especially in their local communities (JUSTICE CANADA, 2022). Current research suggests that effective crime control strategies embrace the importance of regular citizens in preventing crime and enhance their ability to do so (USCIDA et al., 2014). This research focuses on empowering citizens by providing an understanding of overall and crime-specific proportions across the communities of Vancouver. This analysis will infer which districts in Vancouver have proportionally higher and lower crime rates.\n",
    "\n"
   ]
  },
  {
   "cell_type": "markdown",
   "metadata": {},
   "source": [
    "#### Research Question"
   ]
  },
  {
   "cell_type": "markdown",
   "metadata": {},
   "source": [
    "Is there a difference between the average annual proportion of crimes in Vancouver across different districts? \n",
    "\n",
    "To answer this question, we will explore the proportion of crimes grouped per year from **2003** to **2021** and across the **Central**, **East**, **South** and **West** districts of Vancouver. We will calculate the mean proportion of crime that lies in each district annually and find the interquartile range. We will also analyze trends for different crime types to explore significant pattern changes."
   ]
  },
  {
   "cell_type": "markdown",
   "metadata": {},
   "source": [
    "#### The Dataset, Trustworthiness"
   ]
  },
  {
   "cell_type": "markdown",
   "metadata": {},
   "source": [
    "The dataset is provided by the Vancouver Police Department (VDC) and was collected from the PRIME BC Police Records Management System (RMS)on October 21st, 2022. As a result, it is trustworthy and unbiased because it contains all police-reported crimes in Vancouver. It includes crime **type**, **time**, and **location**."
   ]
  },
  {
   "cell_type": "markdown",
   "metadata": {},
   "source": [
    "## Methods and Results"
   ]
  },
  {
   "cell_type": "code",
   "execution_count": 8,
   "metadata": {},
   "outputs": [
    {
     "ename": "ERROR",
     "evalue": "Error in library(tidyverse): there is no package called ‘tidyverse’\n",
     "output_type": "error",
     "traceback": [
      "Error in library(tidyverse): there is no package called ‘tidyverse’\nTraceback:\n",
      "1. library(tidyverse)"
     ]
    }
   ],
   "source": [
    "set.seed(101)\n",
    "\n",
    "library(tidyverse)\n",
    "library(repr)\n",
    "library(digest)\n",
    "library(infer)\n",
    "library(gridExtra)\n",
    "library(cowplot)\n",
    "library(RColorBrewer)"
   ]
  },
  {
   "cell_type": "markdown",
   "metadata": {},
   "source": [
    "#### Data import and cleaning"
   ]
  },
  {
   "cell_type": "code",
   "execution_count": 9,
   "metadata": {},
   "outputs": [
    {
     "ename": "ERROR",
     "evalue": "Error in read_csv(\"https://raw.githubusercontent.com/samnthorne/STAT201_Group40/main/crimedata_csv_AllNeighbourhoods_AllYears.csv\"): could not find function \"read_csv\"\n",
     "output_type": "error",
     "traceback": [
      "Error in read_csv(\"https://raw.githubusercontent.com/samnthorne/STAT201_Group40/main/crimedata_csv_AllNeighbourhoods_AllYears.csv\"): could not find function \"read_csv\"\nTraceback:\n"
     ]
    }
   ],
   "source": [
    "# Data uploaded to open GitHub repository\n",
    "# Data reading \n",
    "crimedata <- read_csv('https://raw.githubusercontent.com/samnthorne/STAT201_Group40/main/crimedata_csv_AllNeighbourhoods_AllYears.csv')\n",
    "head(crimedata) "
   ]
  },
  {
   "cell_type": "markdown",
   "metadata": {},
   "source": [
    "We keep the `TYPE`, `YEAR` and `NEIGHBOURHOOD` columns and remove rows containing NA value. We define the districts via the `NEIGHBOURHOOD` column with reference to Globe Media Ltd. (2022). "
   ]
  },
  {
   "cell_type": "code",
   "execution_count": 10,
   "metadata": {},
   "outputs": [
    {
     "ename": "ERROR",
     "evalue": "Error in crimedata %>% select(\"YEAR\", \"NEIGHBOURHOOD\", \"TYPE\") %>% filter(!is.na(NEIGHBOURHOOD)) %>% : could not find function \"%>%\"\n",
     "output_type": "error",
     "traceback": [
      "Error in crimedata %>% select(\"YEAR\", \"NEIGHBOURHOOD\", \"TYPE\") %>% filter(!is.na(NEIGHBOURHOOD)) %>% : could not find function \"%>%\"\nTraceback:\n"
     ]
    }
   ],
   "source": [
    "# Dropping unnecessary columns and filtering out NA values.\n",
    "selected_crimedata <- crimedata %>%\n",
    "    select('YEAR', 'NEIGHBOURHOOD', 'TYPE') %>%\n",
    "    filter(!is.na(NEIGHBOURHOOD)) %>%\n",
    "    filter(!is.na(YEAR)) # drop NA values in the neighbourhood column and in the year column. \n",
    "\n",
    "# defining the districts of Vancouver. \n",
    "central = c('Central Business District', 'Stanley Park', 'West End')\n",
    "west = c('Fairview', 'Kitsilano', 'West Point Grey',  \n",
    "        'Shaughnessy', 'Musqueam', 'Arbutus Ridge', 'South Cambie', 'Oakridge')\n",
    "east = c('Grandview-Woodland', 'Mount Pleasant', 'Kensington-Cedar Cottage',\n",
    "         'Riley Park', 'Strathcona', 'Hastings-Sunrise', 'Killarney')\n",
    "south = c('Dunbar-Southlands', 'Kerrisdale', 'Marpole','Sunset', 'Victoria-Fraserview', \n",
    "          'Renfrew-Collingwood','Killarney')\n",
    "\n",
    "# Creating a new column in the data frame of district\n",
    "# value can be Central, West, East, or South depending on neighbourhood\n",
    "# Can drop the neighbourhood column here too as from here onwards we will exclusively look at district.\n",
    "district_crimedata <- selected_crimedata %>%\n",
    "    mutate(DISTRICT = case_when(\n",
    "        NEIGHBOURHOOD == 'Central Business District' | NEIGHBOURHOOD == 'Stanley Park' | NEIGHBOURHOOD == 'West End' ~ 'Central',\n",
    "        NEIGHBOURHOOD == 'Fairview' | NEIGHBOURHOOD == 'Kitsilano'| NEIGHBOURHOOD =='West Point Grey'|\n",
    "        NEIGHBOURHOOD == 'Shaughnessy'| NEIGHBOURHOOD == 'Musqueam'|\n",
    "        NEIGHBOURHOOD == 'Arbutus Ridge'| NEIGHBOURHOOD == 'South Cambie' | NEIGHBOURHOOD == 'Oakridge' ~ 'West',\n",
    "        NEIGHBOURHOOD == 'Grandview-Woodland'| NEIGHBOURHOOD == 'Mount Pleasant'| \n",
    "        NEIGHBOURHOOD == 'Kensington-Cedar Cottage'| NEIGHBOURHOOD == 'Riley Park'| NEIGHBOURHOOD == 'Strathcona'|\n",
    "        NEIGHBOURHOOD == 'Hastings-Sunrise' ~ 'East',\n",
    "        NEIGHBOURHOOD == 'Dunbar-Southlands'|NEIGHBOURHOOD == 'Kerrisdale' | NEIGHBOURHOOD == 'Marpole'|NEIGHBOURHOOD == 'Sunset'|\n",
    "        NEIGHBOURHOOD == 'Victoria-Fraserview'|NEIGHBOURHOOD == 'Renfrew-Collingwood'|NEIGHBOURHOOD == 'Killarney'~'South')) %>%\n",
    "    select(-NEIGHBOURHOOD)\n",
    "    # filter(is.na(DISTRICT)) # use to make sure every neighbourhood in the data has been included.\n",
    "\n",
    "# the minimum year in this data is 2003 so this is how far back we will be looking.\n",
    "print(paste(\"The first year to be included in our analysis is\", min(crimedata$YEAR)))\n",
    "# 2021 will be the maximum year in our data as 2022 has not finished yet so it's numbers are not\n",
    "# representative of an entire year of crime.\n",
    "\n",
    "# removing the year 2022 from the data\n",
    "year_crime_data <- district_crimedata %>%\n",
    "    filter(YEAR != 2022)\n",
    "\n",
    "# Next we grouped the type of crime into more broad categories than what is in the original data set.\n",
    "# We also removed car accident type to reduce noise. We determined it was unnnecessary when trying to \n",
    "# determine the safest district in regards to crime.\n",
    "crime_data <- year_crime_data %>%\n",
    "    mutate(TYPE = case_when(\n",
    "        TYPE == \"Break and Enter Commercial\"|TYPE == \"Break and Enter Residential/Other\" ~ \"Break and Enter\",\n",
    "        TYPE == \"Other Theft\"|TYPE == \"Theft from Vehicle\"|TYPE == \"Theft of Bicycle\"|TYPE == \"Theft of Vehicle\" ~ \"Theft\",\n",
    "        TYPE == 'Homicide' ~ 'Homicide', TYPE == 'Mischief'~'Mischief', TYPE == 'Offence Against a Person'~'Offence Against a Person')) %>%\n",
    "    filter(!is.na(TYPE))\n",
    "\n",
    "print(\"This is a piece of the wrangled data frame\")\n",
    "head(crime_data)"
   ]
  },
  {
   "cell_type": "markdown",
   "metadata": {},
   "source": [
    "#### Data Plots"
   ]
  },
  {
   "cell_type": "code",
   "execution_count": 11,
   "metadata": {},
   "outputs": [
    {
     "ename": "ERROR",
     "evalue": "Error in crime_data %>% ggplot(aes(x = YEAR, fill = TYPE)): could not find function \"%>%\"\n",
     "output_type": "error",
     "traceback": [
      "Error in crime_data %>% ggplot(aes(x = YEAR, fill = TYPE)): could not find function \"%>%\"\nTraceback:\n"
     ]
    }
   ],
   "source": [
    "options(repr.plot.width = 18, repr.plot.height = 8)\n",
    "\n",
    "years_vis <- crime_data %>%\n",
    "    ggplot(aes(x = YEAR, fill = TYPE))+\n",
    "    geom_histogram(binwidth = 1, color = 'white')+\n",
    "    theme_classic() +\n",
    "    theme(legend.position=\"right\", \n",
    "          text = element_text(size = 15)) +\n",
    "    labs(title = \"Frequency of crimes and type of crime in each district in Vancouver \\n through the years 2003 to 2021\",\n",
    "         x = \"Year\",\n",
    "         y = \"Number of Crimes\",\n",
    "         fill = \"Type of Crime\")+\n",
    "    facet_wrap(~DISTRICT, ncol = 4)+\n",
    "    scale_fill_brewer(palette = 'Set2') # colorblind friendly palette.\n",
    "years_vis"
   ]
  },
  {
   "cell_type": "markdown",
   "metadata": {},
   "source": [
    "The plots above show the amount of crime in all four districts from 2003 to 2021. The stacks in the bar graph  colour-code the types of crimes for further analysis."
   ]
  },
  {
   "cell_type": "markdown",
   "metadata": {},
   "source": [
    "#### Estimates\n",
    "\n",
    "We should calculate the proportion of crime in each district per year, then calculate the average proportion of crime in each district from 2003 to 2021."
   ]
  },
  {
   "cell_type": "code",
   "execution_count": 8,
   "metadata": {},
   "outputs": [
    {
     "name": "stdout",
     "output_type": "stream",
     "text": [
      "[1] \"This table contains the average annual proportion of Vancouver crime in each district\"\n"
     ]
    },
    {
     "data": {
      "text/html": [
       "<table class=\"dataframe\">\n",
       "<caption>A tibble: 4 × 2</caption>\n",
       "<thead>\n",
       "\t<tr><th scope=col>DISTRICT</th><th scope=col>MEAN_PROP</th></tr>\n",
       "\t<tr><th scope=col>&lt;chr&gt;</th><th scope=col>&lt;dbl&gt;</th></tr>\n",
       "</thead>\n",
       "<tbody>\n",
       "\t<tr><td>Central</td><td>0.3710028</td></tr>\n",
       "\t<tr><td>East   </td><td>0.2888026</td></tr>\n",
       "\t<tr><td>South  </td><td>0.1748564</td></tr>\n",
       "\t<tr><td>West   </td><td>0.1719381</td></tr>\n",
       "</tbody>\n",
       "</table>\n"
      ],
      "text/latex": [
       "A tibble: 4 × 2\n",
       "\\begin{tabular}{ll}\n",
       " DISTRICT & MEAN\\_PROP\\\\\n",
       " <chr> & <dbl>\\\\\n",
       "\\hline\n",
       "\t Central & 0.3710028\\\\\n",
       "\t East    & 0.2888026\\\\\n",
       "\t South   & 0.1748564\\\\\n",
       "\t West    & 0.1719381\\\\\n",
       "\\end{tabular}\n"
      ],
      "text/markdown": [
       "\n",
       "A tibble: 4 × 2\n",
       "\n",
       "| DISTRICT &lt;chr&gt; | MEAN_PROP &lt;dbl&gt; |\n",
       "|---|---|\n",
       "| Central | 0.3710028 |\n",
       "| East    | 0.2888026 |\n",
       "| South   | 0.1748564 |\n",
       "| West    | 0.1719381 |\n",
       "\n"
      ],
      "text/plain": [
       "  DISTRICT MEAN_PROP\n",
       "1 Central  0.3710028\n",
       "2 East     0.2888026\n",
       "3 South    0.1748564\n",
       "4 West     0.1719381"
      ]
     },
     "metadata": {},
     "output_type": "display_data"
    }
   ],
   "source": [
    "# Added another column to the data which holds the proportion of crime for the corresponding district and year\n",
    "# of the row.\n",
    "prop_data <- crime_data %>%\n",
    "    group_by(YEAR) %>%\n",
    "    mutate(num_year = n()) %>%\n",
    "    ungroup() %>%\n",
    "    group_by(YEAR, DISTRICT) %>%\n",
    "    mutate(PROP = n()/num_year) %>%\n",
    "    select(-num_year)\n",
    "\n",
    "# Using the proportion found above, find the mean over all years for each district.\n",
    "estimation_table <- prop_data %>%\n",
    "    group_by(DISTRICT) %>%\n",
    "    summarise(MEAN_PROP = mean(PROP))\n",
    "\n",
    "print(\"This table contains the average annual proportion of Vancouver crime in each district\")\n",
    "estimation_table"
   ]
  },
  {
   "cell_type": "markdown",
   "metadata": {},
   "source": [
    "### Methods"
   ]
  },
  {
   "cell_type": "markdown",
   "metadata": {},
   "source": [
    "#### Comment on Preliminary Results and Research Methodology "
   ]
  },
  {
   "cell_type": "markdown",
   "metadata": {},
   "source": [
    "The preliminary results only provide an overview of the mean crime proportions. Though interesting insights can be derived from the plots, we still need to advance the statistical analysis of the topic to answer the research question conclusively: \n",
    "\n",
    "We need a hypothesis test at a significance level of a = 0.05 to determine if there is a difference between the average annual proportion of crimes in different districts of Vancouver.\n",
    "\n",
    "Let c = central, w = west, s = south, e = east\n",
    "\n",
    "H0: pc = pw = ps = pe\n",
    "\n",
    "H1: at least one {pc, pw, ps, pe} is different from the others\n",
    "\n",
    "We will also conduct ANOVA tests to determine whether the differences between the four groups are statistically significant. So the test will analyze the levels of variance within the groups by taking samples from each of them."
   ]
  },
  {
   "cell_type": "markdown",
   "metadata": {},
   "source": [
    "### Discussion"
   ]
  },
  {
   "cell_type": "markdown",
   "metadata": {},
   "source": [
    "We could not find any studies about police-reported crime rates in BC that take a micro-focused look into the districts of Vancouver and attempt to determine differences in mean crime proportion. Therefore, we believe this study could contribute to  further analysis of criminality from a community perspective. Deeper insight into crime rates across the Vancouver districts will inform citizens (as advocates for their communities) about the realities of their region, empowering them to use this information for political and community-building purposes."
   ]
  },
  {
   "cell_type": "markdown",
   "metadata": {},
   "source": [
    "### References\n"
   ]
  },
  {
   "cell_type": "markdown",
   "metadata": {},
   "source": [
    "(STATCAN, 2021) https://www150.statcan.gc.ca/n1/pub/85-002-x/2022001/article/00013-eng.htm"
   ]
  },
  {
   "cell_type": "markdown",
   "metadata": {},
   "source": [
    "(JUSTICE CANADA, 2022) https://www.justice.gc.ca/eng/rp-pr/csj-sjc/crime/rr01_1/p0.html"
   ]
  },
  {
   "cell_type": "markdown",
   "metadata": {},
   "source": [
    "(GLOBE MEDIA LTD., 2022) https://www.expatarrivals.com/americas/canada/vancouver/areas-and-suburbs-vancouver"
   ]
  },
  {
   "cell_type": "markdown",
   "metadata": {},
   "source": [
    "(USCIDA et al., 2014) https://www.ojp.gov/pdffiles1/nij/grants/245408.pdf"
   ]
  }
 ],
 "metadata": {
  "kernelspec": {
   "display_name": "R",
   "language": "R",
   "name": "ir"
  },
  "language_info": {
   "codemirror_mode": "r",
   "file_extension": ".r",
   "mimetype": "text/x-r-source",
   "name": "R",
   "pygments_lexer": "r",
   "version": "3.6.3"
  }
 },
 "nbformat": 4,
 "nbformat_minor": 4
}
